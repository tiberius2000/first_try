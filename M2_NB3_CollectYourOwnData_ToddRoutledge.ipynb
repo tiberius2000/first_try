{
 "cells": [
  {
   "cell_type": "markdown",
   "metadata": {},
   "source": [
    "<div align=\"right\">Python 3.6 Jupyter Notebook</div>"
   ]
  },
  {
   "cell_type": "markdown",
   "metadata": {},
   "source": [
    "# Collect your own data"
   ]
  },
  {
   "cell_type": "markdown",
   "metadata": {},
   "source": [
    "### Your completion of the notebook exercises will be graded based on your ability to do the following:\n",
    "\n",
    "> **Evaluate**: Are you able to interpret the results and justify your interpretation based on the observed data?"
   ]
  },
  {
   "cell_type": "markdown",
   "metadata": {},
   "source": [
    "#### Notebook objectives\n",
    "By the end of this notebook, you will be expected to:\n",
    "> \n",
    "  - Manually perform exploratory data analysis on call data;\n",
    "  - Leverage the Bandicoot module to automate analysis; and\n",
    "  - Know resources for building your own Funf applications.\n",
    "    \n",
    "####  List of exercises\n",
    ">   \n",
    "- **Exercise 1**: Using Bandicoot for analysis.\n",
    "- **Exercise 2**: Interpreting calls of zero duration in call records."
   ]
  },
  {
   "cell_type": "markdown",
   "metadata": {},
   "source": [
    "# Notebook introduction\n",
    "\n",
    "This notebook introduces two tools that will be discussed in detail in upcoming video content. You can complete the exercise using the sample dataset or generate your own using the instructions below, if you have access to an Android device.\n",
    "\n",
    "\n",
    "To demonstrate the different lengths of time it takes to gain insights when performing an analysis, you will start to explore the provided dataset (or your own) through a manual analysis cycle, before switching to automated analysis using the Bandicoot framework. You will be introduced to this tool in more detail in Module 5."
   ]
  },
  {
   "cell_type": "markdown",
   "metadata": {},
   "source": [
    "<div class=\"alert alert-warning\">\n",
    "<b>Note</b>:<br>\n",
    "It is strongly recommended that you save and checkpoint after applying significant changes or completing exercises. This allows you to return the notebook to a previous state should you wish to do so. On the Jupyter menu, select \"File\", then \"Save and Checkpoint\" from the dropdown menu that appears.\n",
    "</div>"
   ]
  },
  {
   "cell_type": "markdown",
   "metadata": {},
   "source": [
    "#### Load libraries and set options"
   ]
  },
  {
   "cell_type": "code",
   "execution_count": 1,
   "metadata": {},
   "outputs": [],
   "source": [
    "import pandas as pd\n",
    "import numpy as np\n",
    "import matplotlib\n",
    "import os\n",
    "import bandicoot as bc\n",
    "from IPython.display import IFrame\n",
    "%matplotlib inline\n",
    "matplotlib.rcParams['figure.figsize'] = (10, 8)"
   ]
  },
  {
   "cell_type": "markdown",
   "metadata": {},
   "source": [
    "## 1. Collect your own data\n",
    "\n",
    "This notebook begins with an example dataset, on which you will perform similar activities to those demonstrated in Section 1 of Module 2's Notebook 2. You are welcome to share your dataset with fellow students, in cases where they do not have access to android devices, if you are comfortable to do so.\n",
    "\n",
    "> Building applications is a separate topic, and you will begin with using another open source project from MIT to process your data in a format that can be utilized for analysis.\n",
    "\n",
    "[Bandicoot](http://bandicoot.mit.edu/) is an open-source Python toolbox, which analyzes mobile phone metadata. This section demonstrates how it can be used to collect your own data. Additional examples, as well as how Bandicoot is used to analyze mobile phone data, will be demonstrated in Module 5.\n",
    "> **Important:**\n",
    ">\n",
    "> The demonstration below requires the use of an Android phone. ***If you do not have access to an Android phone***, a file, named \"metadata_sample.csv\", in the \"data\" directory under \"module_2\", has been provided that you can use for your analysis. Bandicoot is not available on Apple phones due to restrictions in the operating system.\n",
    "\n",
    "***If you have an Android phone***, you can export your own metadata by following these steps:\n",
    "1. Go to http://bandicoot.mit.edu/android and install the application on your phone;\n",
    "2. Export your data, email it to yourself, and upload the CSV file to the \"data\" directory in \"module_2\" on your virtual analysis environment.\n",
    "3. You can then complete the example using your own dataset.\n",
    "\n",
    "> **Note**:\n",
    "\n",
    "> You can upload files from the directory view in your Jupyter notebook. Ensure that you select the file and then click \"upload\" to start the upload process.\n",
    "\n",
    "> ![Uploading files screenshot](Upload_01.png \"Screenshot of uploading files\")"
   ]
  },
  {
   "cell_type": "markdown",
   "metadata": {},
   "source": [
    "### 1.1 Loading the data\n",
    "\n",
    "First, load the supplied CSV file using additional options in the Pandas read_csv function. It is possible to set the index, and instruct the function to parse the datetime column when loading the file. You can read more about the function in the Pandas [documentation](http://pandas.pydata.org/pandas-docs/stable/generated/pandas.read_csv.html)."
   ]
  },
  {
   "cell_type": "code",
   "execution_count": 2,
   "metadata": {},
   "outputs": [],
   "source": [
    "# Load the dataset.\n",
    "#     You can change the filename to reflect the name of your generated dataset,\n",
    "#     if you downloaded the application in the previous step. The default filename\n",
    "#     is \"metadata.csv\".\n",
    "calls = pd.read_csv(\"data/metadata_sample.csv\",parse_dates=['datetime'],\n",
    "                    index_col=['datetime'])"
   ]
  },
  {
   "cell_type": "markdown",
   "metadata": {},
   "source": [
    "Review the data."
   ]
  },
  {
   "cell_type": "code",
   "execution_count": 3,
   "metadata": {},
   "outputs": [
    {
     "data": {
      "text/html": [
       "<div>\n",
       "<table border=\"1\" class=\"dataframe\">\n",
       "  <thead>\n",
       "    <tr style=\"text-align: right;\">\n",
       "      <th></th>\n",
       "      <th>interaction</th>\n",
       "      <th>direction</th>\n",
       "      <th>correspondent_id</th>\n",
       "      <th>call_duration</th>\n",
       "      <th>antenna_id</th>\n",
       "    </tr>\n",
       "    <tr>\n",
       "      <th>datetime</th>\n",
       "      <th></th>\n",
       "      <th></th>\n",
       "      <th></th>\n",
       "      <th></th>\n",
       "      <th></th>\n",
       "    </tr>\n",
       "  </thead>\n",
       "  <tbody>\n",
       "    <tr>\n",
       "      <th>2016-06-21 08:20:07</th>\n",
       "      <td>call</td>\n",
       "      <td>out</td>\n",
       "      <td>fed079947094d088440b53367bca7653ee7e62e7</td>\n",
       "      <td>NaN</td>\n",
       "      <td>NaN</td>\n",
       "    </tr>\n",
       "    <tr>\n",
       "      <th>2016-06-21 08:21:52</th>\n",
       "      <td>text</td>\n",
       "      <td>in</td>\n",
       "      <td>8fea1791eba929dbae3bddfe64861f86679deeaf</td>\n",
       "      <td>NaN</td>\n",
       "      <td>NaN</td>\n",
       "    </tr>\n",
       "    <tr>\n",
       "      <th>2016-06-21 08:22:23</th>\n",
       "      <td>call</td>\n",
       "      <td>out</td>\n",
       "      <td>fed079947094d088440b53367bca7653ee7e62e7</td>\n",
       "      <td>3.0</td>\n",
       "      <td>NaN</td>\n",
       "    </tr>\n",
       "    <tr>\n",
       "      <th>2016-06-21 08:23:03</th>\n",
       "      <td>call</td>\n",
       "      <td>out</td>\n",
       "      <td>effc58da851b9ab004194a8c74998802d0bcca45</td>\n",
       "      <td>NaN</td>\n",
       "      <td>NaN</td>\n",
       "    </tr>\n",
       "    <tr>\n",
       "      <th>2016-06-21 08:23:27</th>\n",
       "      <td>call</td>\n",
       "      <td>out</td>\n",
       "      <td>fed079947094d088440b53367bca7653ee7e62e7</td>\n",
       "      <td>2.0</td>\n",
       "      <td>NaN</td>\n",
       "    </tr>\n",
       "  </tbody>\n",
       "</table>\n",
       "</div>"
      ],
      "text/plain": [
       "                    interaction direction  \\\n",
       "datetime                                    \n",
       "2016-06-21 08:20:07        call       out   \n",
       "2016-06-21 08:21:52        text        in   \n",
       "2016-06-21 08:22:23        call       out   \n",
       "2016-06-21 08:23:03        call       out   \n",
       "2016-06-21 08:23:27        call       out   \n",
       "\n",
       "                                             correspondent_id  call_duration  \\\n",
       "datetime                                                                       \n",
       "2016-06-21 08:20:07  fed079947094d088440b53367bca7653ee7e62e7            NaN   \n",
       "2016-06-21 08:21:52  8fea1791eba929dbae3bddfe64861f86679deeaf            NaN   \n",
       "2016-06-21 08:22:23  fed079947094d088440b53367bca7653ee7e62e7            3.0   \n",
       "2016-06-21 08:23:03  effc58da851b9ab004194a8c74998802d0bcca45            NaN   \n",
       "2016-06-21 08:23:27  fed079947094d088440b53367bca7653ee7e62e7            2.0   \n",
       "\n",
       "                     antenna_id  \n",
       "datetime                         \n",
       "2016-06-21 08:20:07         NaN  \n",
       "2016-06-21 08:21:52         NaN  \n",
       "2016-06-21 08:22:23         NaN  \n",
       "2016-06-21 08:23:03         NaN  \n",
       "2016-06-21 08:23:27         NaN  "
      ]
     },
     "execution_count": 3,
     "metadata": {},
     "output_type": "execute_result"
    }
   ],
   "source": [
    "calls.head(5)"
   ]
  },
  {
   "cell_type": "markdown",
   "metadata": {},
   "source": [
    "### 1.2 Adding derived features\n",
    "Similarly to the previous notebook, you can add derived features to your dataset, as demonstrated in the example below."
   ]
  },
  {
   "cell_type": "code",
   "execution_count": 4,
   "metadata": {},
   "outputs": [
    {
     "data": {
      "text/html": [
       "<div>\n",
       "<table border=\"1\" class=\"dataframe\">\n",
       "  <thead>\n",
       "    <tr style=\"text-align: right;\">\n",
       "      <th></th>\n",
       "      <th>interaction</th>\n",
       "      <th>direction</th>\n",
       "      <th>correspondent_id</th>\n",
       "      <th>call_duration</th>\n",
       "      <th>antenna_id</th>\n",
       "      <th>week</th>\n",
       "    </tr>\n",
       "    <tr>\n",
       "      <th>datetime</th>\n",
       "      <th></th>\n",
       "      <th></th>\n",
       "      <th></th>\n",
       "      <th></th>\n",
       "      <th></th>\n",
       "      <th></th>\n",
       "    </tr>\n",
       "  </thead>\n",
       "  <tbody>\n",
       "    <tr>\n",
       "      <th>2016-06-21 08:20:07</th>\n",
       "      <td>call</td>\n",
       "      <td>out</td>\n",
       "      <td>fed079947094d088440b53367bca7653ee7e62e7</td>\n",
       "      <td>NaN</td>\n",
       "      <td>NaN</td>\n",
       "      <td>25</td>\n",
       "    </tr>\n",
       "    <tr>\n",
       "      <th>2016-06-21 08:21:52</th>\n",
       "      <td>text</td>\n",
       "      <td>in</td>\n",
       "      <td>8fea1791eba929dbae3bddfe64861f86679deeaf</td>\n",
       "      <td>NaN</td>\n",
       "      <td>NaN</td>\n",
       "      <td>25</td>\n",
       "    </tr>\n",
       "    <tr>\n",
       "      <th>2016-06-21 08:22:23</th>\n",
       "      <td>call</td>\n",
       "      <td>out</td>\n",
       "      <td>fed079947094d088440b53367bca7653ee7e62e7</td>\n",
       "      <td>3.0</td>\n",
       "      <td>NaN</td>\n",
       "      <td>25</td>\n",
       "    </tr>\n",
       "    <tr>\n",
       "      <th>2016-06-21 08:23:03</th>\n",
       "      <td>call</td>\n",
       "      <td>out</td>\n",
       "      <td>effc58da851b9ab004194a8c74998802d0bcca45</td>\n",
       "      <td>NaN</td>\n",
       "      <td>NaN</td>\n",
       "      <td>25</td>\n",
       "    </tr>\n",
       "    <tr>\n",
       "      <th>2016-06-21 08:23:27</th>\n",
       "      <td>call</td>\n",
       "      <td>out</td>\n",
       "      <td>fed079947094d088440b53367bca7653ee7e62e7</td>\n",
       "      <td>2.0</td>\n",
       "      <td>NaN</td>\n",
       "      <td>25</td>\n",
       "    </tr>\n",
       "  </tbody>\n",
       "</table>\n",
       "</div>"
      ],
      "text/plain": [
       "                    interaction direction  \\\n",
       "datetime                                    \n",
       "2016-06-21 08:20:07        call       out   \n",
       "2016-06-21 08:21:52        text        in   \n",
       "2016-06-21 08:22:23        call       out   \n",
       "2016-06-21 08:23:03        call       out   \n",
       "2016-06-21 08:23:27        call       out   \n",
       "\n",
       "                                             correspondent_id  call_duration  \\\n",
       "datetime                                                                       \n",
       "2016-06-21 08:20:07  fed079947094d088440b53367bca7653ee7e62e7            NaN   \n",
       "2016-06-21 08:21:52  8fea1791eba929dbae3bddfe64861f86679deeaf            NaN   \n",
       "2016-06-21 08:22:23  fed079947094d088440b53367bca7653ee7e62e7            3.0   \n",
       "2016-06-21 08:23:03  effc58da851b9ab004194a8c74998802d0bcca45            NaN   \n",
       "2016-06-21 08:23:27  fed079947094d088440b53367bca7653ee7e62e7            2.0   \n",
       "\n",
       "                     antenna_id  week  \n",
       "datetime                               \n",
       "2016-06-21 08:20:07         NaN    25  \n",
       "2016-06-21 08:21:52         NaN    25  \n",
       "2016-06-21 08:22:23         NaN    25  \n",
       "2016-06-21 08:23:03         NaN    25  \n",
       "2016-06-21 08:23:27         NaN    25  "
      ]
     },
     "execution_count": 4,
     "metadata": {},
     "output_type": "execute_result"
    }
   ],
   "source": [
    "# Add a column where the week is derived from the datetime column.\n",
    "calls['week'] = calls.index.map(lambda observation_timestamp: \n",
    "                                observation_timestamp.week)\n",
    "\n",
    "# Display the head of the new dataset.\n",
    "calls.head(5)"
   ]
  },
  {
   "cell_type": "markdown",
   "metadata": {},
   "source": [
    "### 1.3 Display the list of interaction types.\n",
    "This function can be useful when working with large or dirty datasets."
   ]
  },
  {
   "cell_type": "code",
   "execution_count": 5,
   "metadata": {},
   "outputs": [
    {
     "data": {
      "text/plain": [
       "array(['call', 'text'], dtype=object)"
      ]
     },
     "execution_count": 5,
     "metadata": {},
     "output_type": "execute_result"
    }
   ],
   "source": [
    "calls.interaction.unique()"
   ]
  },
  {
   "cell_type": "markdown",
   "metadata": {},
   "source": [
    "### 1.4 Visualizing your data\n",
    "You can make use of the default options, as demonstrated below, to get a quick overview of possible data visualizations. Alternatively, you can start performing a manual analysis on the data set (demonstrated in the previous notebook)."
   ]
  },
  {
   "cell_type": "code",
   "execution_count": 6,
   "metadata": {},
   "outputs": [
    {
     "data": {
      "image/png": "[encoded data removed]",
      "text/plain": [
       "<matplotlib.figure.Figure at 0x7f88a0a84780>"
      ]
     },
     "metadata": {},
     "output_type": "display_data"
    }
   ],
   "source": [
    "vis = calls.hist()"
   ]
  },
  {
   "cell_type": "markdown",
   "metadata": {},
   "source": [
    "### 1.5 Manual analysis vs. using Bandicoot\n",
    "\n",
    "While libraries such as Pandas are great at general data wrangling and analysis, for bespoke applications, this method of analysis can be somewhat tedious. In many cases you have to define what it is that you would like to visualize, and then manually complete the steps. This is where Bandicoot comes in. Using a module that has been created specifically to look at a certain type of data (in this example, mobile phone data) can save you a significant amount of time.\n",
    "\n",
    "More content about Bandicoot will be provided in Module 5. However, the following section will give you an idea of how powerful these tools are, when used correctly."
   ]
  },
  {
   "cell_type": "markdown",
   "metadata": {},
   "source": [
    "#### 1.5.1 Load the input file"
   ]
  },
  {
   "cell_type": "code",
   "execution_count": 12,
   "metadata": {},
   "outputs": [
    {
     "name": "stdout",
     "output_type": "stream",
     "text": [
      "\u001b[32m[x]\u001b[0m 143 records from 2016-06-21 08:21:52 to 2016-07-19 21:02:11\n",
      "\u001b[32m[x]\u001b[0m 57 contacts\n",
      "\u001b[32m[ ]\u001b[0m No attribute stored\n",
      "\u001b[32m[ ]\u001b[0m No antenna stored\n",
      "\u001b[32m[ ]\u001b[0m No recharges\n",
      "\u001b[32m[x]\u001b[0m Has home\n",
      "\u001b[32m[x]\u001b[0m Has texts\n",
      "\u001b[32m[x]\u001b[0m Has calls\n",
      "\u001b[32m[ ]\u001b[0m No network\n"
     ]
    },
    {
     "name": "stderr",
     "output_type": "stream",
     "text": [
      "\u001b[33mWarning: 35 record(s) were removed due to missing or incomplete fields.\n",
      "         call_duration: 35 record(s) with incomplete values\n",
      "\u001b[0m\u001b[33mWarning: 100.00% of the records are missing a location.\n",
      "         No antennas file was given and records are using antennas for position.\n",
      "\u001b[0m"
     ]
    }
   ],
   "source": [
    "U = bc.read_csv(\"data/metadata_sample\", \"\")"
   ]
  },
  {
   "cell_type": "markdown",
   "metadata": {},
   "source": [
    "#### 1.5.2 Export the visualization to disk and embed in this notebook\n",
    "In order to avoid having to open additional ports on your virtual analysis environment, and potentially on your local network, we can export the visualization to disk and embed it directly in this notebook.\n",
    "\n",
    "Screenshot supplied of sample file.\n",
    "![Bandicoot visualization](bc_visualization_screenshot.png \"Screenshot of Bandicoot visualization.\")\n",
    "\n",
    "You can execute the code cells below to visualize the input file selected in Section 1.5.1."
   ]
  },
  {
   "cell_type": "code",
   "execution_count": 8,
   "metadata": {},
   "outputs": [
    {
     "name": "stdout",
     "output_type": "stream",
     "text": [
      "Successfully exported the visualization to viz\n"
     ]
    },
    {
     "data": {
      "text/plain": [
       "'viz'"
      ]
     },
     "execution_count": 8,
     "metadata": {},
     "output_type": "execute_result"
    }
   ],
   "source": [
    "# Export the visualization to a new directory, \"viz\".\n",
    "bc.visualization.export(U, \"viz\")"
   ]
  },
  {
   "cell_type": "code",
   "execution_count": 9,
   "metadata": {
    "scrolled": true
   },
   "outputs": [
    {
     "data": {
      "text/html": [
       "\n",
       "        <iframe\n",
       "            width=\"100%\"\n",
       "            height=\"700\"\n",
       "            src=\"viz/index.html\"\n",
       "            frameborder=\"0\"\n",
       "            allowfullscreen\n",
       "        ></iframe>\n",
       "        "
      ],
      "text/plain": [
       "<IPython.lib.display.IFrame at 0x7f88a06d8dd8>"
      ]
     },
     "execution_count": 9,
     "metadata": {},
     "output_type": "execute_result"
    }
   ],
   "source": [
    "# Display the exported visualization in a frame within this notebook\n",
    "IFrame(\"viz/index.html\", \"100%\", 700)"
   ]
  },
  {
   "cell_type": "markdown",
   "metadata": {},
   "source": [
    "<br>\n",
    "<div class=\"alert alert-info\">\n",
    "<b>Exercise 1 Start.</b>\n",
    "</div>\n",
    "\n",
    "**Note:**\n",
    "> Please use the supplied dataset to complete the exercise rather than your own data. \n",
    "\n",
    "1. Using the exported visualization, identify a correspondent id with whom the user had five interactions with for the given time range. You will need to hover over the Ego network shown, and take a screenshot. Embed the image as your solution to this part of the exercise.\n",
    "> **Important**: Use the following template to embed the image. This allows the image to be retained in the shared notebook.\n",
    ">\n",
    "`from IPython.display import Image\n",
    "Image(filename=\"yourImageFilename.ext\")`\n",
    "2. What is the recorded number of interactions observed in Week 03/07 to 09/07? You can obtain this value by changing the view in visualization from \"by week\" to \"all time range\".\n",
    "3. Of the incoming interactions across the entire time range, what percentage of these were text? Show your calculation using values from the exported visualization."
   ]
  },
  {
   "cell_type": "code",
   "execution_count": 13,
   "metadata": {
    "scrolled": true
   },
   "outputs": [
    {
     "data": {
      "image/jpeg": "[encoded data removed]",
      "text/plain": [
       "<IPython.core.display.Image object>"
      ]
     },
     "execution_count": 13,
     "metadata": {},
     "output_type": "execute_result"
    }
   ],
   "source": [
    "#  Screen Printed and uploaded - Emeded image below\n",
    "\n",
    "from IPython.display import Image\n",
    "Image(filename=\"ex1_image_5interactions.jpg\")"
   ]
  },
  {
   "cell_type": "markdown",
   "metadata": {},
   "source": [
    "# Qustion 2 - say range 03/07 - 09/07 -\n",
    "#Only Range would be July 3rd - July 9th will use that as range as format within queustion is confusing\n",
    "#  Answer is 47 Interactions between July 3 - July 9th"
   ]
  },
  {
   "cell_type": "markdown",
   "metadata": {},
   "source": [
    "** Question 3 - Total percentage of Texts **\n",
    "\n",
    "-- 37 incoming text  out of the 84 total interactions\n",
    "\n",
    "\n",
    "# 37/84 = 44% of the all incoming interactions were Texts  **\n",
    "\n",
    "\n",
    "\n",
    "\n"
   ]
  },
  {
   "cell_type": "markdown",
   "metadata": {},
   "source": [
    "<br>\n",
    "<div class=\"alert alert-info\">\n",
    "<b>Exercise 1 End.</b>\n",
    "</div>\n",
    "\n",
    "> **Exercise complete**:\n",
    "    \n",
    "> This is a good time to \"Save and Checkpoint\"."
   ]
  },
  {
   "cell_type": "markdown",
   "metadata": {},
   "source": [
    "<br>\n",
    "<div class=\"alert alert-info\">\n",
    "<b>Exercise 2 Start.</b>\n",
    "</div>\n",
    "\n",
    "### Instructions\n",
    "> In Section 1.5.1, the function automatically removes calls with a zero duration. Consider use cases where a zero length call would have a specific meaning, and where would be interested in retaining these records.\n",
    "\n",
    ">**Note**: In the majority of cases, these records would be removed. However, think about the contents of the data set and what calls of zero duration may signify, if the records were based on your own behavior."
   ]
  },
  {
   "cell_type": "markdown",
   "metadata": {},
   "source": [
    "Zero duration of a call would likely consider - No Answer.  \n",
    "\n",
    "I get several calls a day from unknown callers whom I do not answer.  If a message is not left then the duration is zero and in lot of cases this signifys \"Spam\" callers which in my own behavior I would potentially block this caller in the future in order to prevent the calls."
   ]
  },
  {
   "cell_type": "markdown",
   "metadata": {},
   "source": [
    "<br>\n",
    "<div class=\"alert alert-info\">\n",
    "<b>Exercise 2 End.</b>\n",
    "</div>\n",
    "\n",
    "> **Exercise complete**:\n",
    "    \n",
    "> This is a good time to \"Save and Checkpoint\"."
   ]
  },
  {
   "cell_type": "markdown",
   "metadata": {},
   "source": [
    "#### Wrap-up\n",
    "In Module 5, you will be introduced to [Bandicoot](http://bandicoot.mit.edu/) in more detail,  and explore and use additional features of this library."
   ]
  },
  {
   "cell_type": "markdown",
   "metadata": {},
   "source": [
    "# 2. Building Applications using Funf\n",
    "\n",
    "[Funf](https://github.com/OpenSensing/funf-core-android) was introduced in the video content of this module. You are welcome to review the code on GitHub, download it and create your own application. Funf is a fork of the popular Funf Open Sensing Framework. You can visit the original project's [wiki](https://github.com/funf-org/funf-core-android/wiki) for more detail about architecture design, documentation, and scripts for processing collected data.\n",
    "\n",
    "Students interested in building their own applications can review the links, and obtain the source from the supplied links. The documentation provides instructions on how to run and modify the source. You can create an application to collect your own data, but will require access to the following additional components:\n",
    " - Android SDK.\n",
    " - The [application](https://github.com/OpenSensing/android-opensensing) that points to the library."
   ]
  },
  {
   "cell_type": "markdown",
   "metadata": {},
   "source": [
    "# 3. Submit your notebook\n",
    "\n",
    "Please ensure that you:\n",
    "- Perform a final \"Save and Checkpoint\";\n",
    "- Download a copy of the notebook in \".ipynb\" format to your local machine using \"File\", \"Download as\", and \"IPython Notebook (.ipynb); and\n",
    "- Submit a copy of this file to the Online Campus."
   ]
  }
 ],
 "metadata": {
  "kernelspec": {
   "display_name": "Python 3",
   "language": "python",
   "name": "python3"
  },
  "language_info": {
   "codemirror_mode": {
    "name": "ipython",
    "version": 3
   },
   "file_extension": ".py",
   "mimetype": "text/x-python",
   "name": "python",
   "nbconvert_exporter": "python",
   "pygments_lexer": "ipython3",
   "version": "3.6.2"
  }
 },
 "nbformat": 4,
 "nbformat_minor": 1
}
